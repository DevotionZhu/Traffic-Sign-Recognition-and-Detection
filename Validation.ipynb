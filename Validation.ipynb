{
 "cells": [
  {
   "cell_type": "code",
   "execution_count": 1,
   "metadata": {},
   "outputs": [],
   "source": [
    "import cv2\n",
    "import glob\n",
    "import random as rand\n",
    "import numpy as np \n",
    "from scipy.misc import imread\n",
    "import matplotlib.pyplot as plt\n",
    "import os"
   ]
  },
  {
   "cell_type": "code",
   "execution_count": 2,
   "metadata": {},
   "outputs": [],
   "source": [
    "with open('C:\\\\Users\\\\Deepak Reddy\\\\Desktop\\\\old desk\\\\Old_desk_04Feb18\\\\Python\\\\Trafficsign_Datasets\\\\\n",
    "GTSDB\\\\FullIJCNN2013\\\\gt.txt') as f:\n",
    "    content = f.read().splitlines()"
   ]
  },
  {
   "cell_type": "code",
   "execution_count": 5,
   "metadata": {},
   "outputs": [],
   "source": [
    "test_paths = glob.glob('C:\\\\Users\\\\Deepak Reddy\\\\Desktop\\\\old desk\\\\Old_desk_04Feb18\\\\Python\\\\Trafficsign_Datasets\\\\\n",
    "GTSDB\\\\FullIJCNN2013\\\\test\\\\*.ppm') \n",
    "img_prev_no = 601\n",
    "for i in range(852, len(content)):\n",
    "    img_content = content[i].split(';');\n",
    "    img_sel_no = int(img_content[0].split('.')[0])\n",
    "    path_img = test_paths[img_sel_no-600]\n",
    "    img_shape = imread(path_img).shape\n",
    "    img = np.zeros((img_shape[0], img_shape[1]))\n",
    "    \n",
    "    # To create images not in gt.txt file\n",
    "    diff = img_sel_no - img_prev_no\n",
    "    if (diff > 1):\n",
    "        for k in range(diff-1):\n",
    "            img_prev_no = img_prev_no +1\n",
    "            cv2.imwrite(\"C:\\\\Users\\\\Deepak Reddy\\\\Desktop\\\\old desk\\\\Old_desk_04Feb18\\\\Python\\\\Trafficsign_Datasets\\\\GTSDB\\\\FullIJCNN2013\\\\Testimg_Bin\\\\\" + str(img_prev_no) + \".jpg\", img)  \n",
    "       \n",
    "    filename = \"C:\\\\Users\\\\Deepak Reddy\\\\Desktop\\\\old desk\\\\Old_desk_04Feb18\\\\Python\\\\Trafficsign_Datasets\\\\GTSDB\\\\FullIJCNN2013\\\\Testimg_Bin\\\\\" + str(img_sel_no) + \".jpg\"\n",
    "    if os.path.exists(filename):\n",
    "        # \"with\" statements are very handy for opening files.\n",
    "        with open(filename,'rb') as rfp:\n",
    "            img = imread(rfp)\n",
    "    img[int(img_content[2]):int(img_content[4]), int(img_content[1]):int(img_content[3])] = 255\n",
    "    cv2.imwrite(\"C:\\\\Users\\\\Deepak Reddy\\\\Desktop\\\\old desk\\\\Old_desk_04Feb18\\\\Python\\\\Trafficsign_Datasets\\\\GTSDB\\\\FullIJCNN2013\\\\Testimg_Bin\\\\\" + str(img_sel_no) + \".jpg\", img)  \n",
    "    img_prev_no = img_sel_no"
   ]
  },
  {
   "cell_type": "code",
   "execution_count": 58,
   "metadata": {},
   "outputs": [
    {
     "data": {
      "image/png": "[encoded data removed]",
      "text/plain": [
       "<matplotlib.figure.Figure at 0x29d0f6ec710>"
      ]
     },
     "metadata": {},
     "output_type": "display_data"
    },
    {
     "data": {
      "text/plain": [
       "(800, 1360)"
      ]
     },
     "execution_count": 58,
     "metadata": {},
     "output_type": "execute_result"
    }
   ],
   "source": [
    "plt.figure(figsize=(20,10))\n",
    "plt.imshow(img)\n",
    "plt.show()\n",
    "img.shape"
   ]
  },
  {
   "cell_type": "code",
   "execution_count": 46,
   "metadata": {},
   "outputs": [],
   "source": [
    "img = np.zeros((img_shape[0], img_shape[1]))\n",
    "img[543:574, 443:474] = 255\n"
   ]
  },
  {
   "cell_type": "code",
   "execution_count": 49,
   "metadata": {},
   "outputs": [
    {
     "data": {
      "text/plain": [
       "0.9384765625"
      ]
     },
     "execution_count": 49,
     "metadata": {},
     "output_type": "execute_result"
    }
   ],
   "source": [
    "np.sum(img[543:574, 443:474])/255/(32*32)"
   ]
  },
  {
   "cell_type": "code",
   "execution_count": 57,
   "metadata": {},
   "outputs": [
    {
     "data": {
      "text/plain": [
       "array([0])"
      ]
     },
     "execution_count": 57,
     "metadata": {},
     "output_type": "execute_result"
    }
   ],
   "source": [
    "y_t = []\n",
    "y_t.append(0)\n",
    "y_t.append(1)\n",
    "y_t = np.asarray(y_t)\n",
    "y_t[np.where(y_t == 0)]"
   ]
  },
  {
   "cell_type": "code",
   "execution_count": 2,
   "metadata": {},
   "outputs": [
    {
     "name": "stdout",
     "output_type": "stream",
     "text": [
      "852\n"
     ]
    }
   ],
   "source": [
    "for i in range(852,853):\n",
    "    print(i)"
   ]
  },
  {
   "cell_type": "code",
   "execution_count": 7,
   "metadata": {},
   "outputs": [
    {
     "data": {
      "text/plain": [
       "36"
      ]
     },
     "execution_count": 7,
     "metadata": {},
     "output_type": "execute_result"
    }
   ],
   "source": [
    "np.sum(np.arange(9).reshape(3,3))"
   ]
  },
  {
   "cell_type": "code",
   "execution_count": null,
   "metadata": {},
   "outputs": [],
   "source": []
  }
 ],
 "metadata": {
  "kernelspec": {
   "display_name": "Python 3",
   "language": "python",
   "name": "python3"
  },
  "language_info": {
   "codemirror_mode": {
    "name": "ipython",
    "version": 3
   },
   "file_extension": ".py",
   "mimetype": "text/x-python",
   "name": "python",
   "nbconvert_exporter": "python",
   "pygments_lexer": "ipython3",
   "version": "3.5.4"
  }
 },
 "nbformat": 4,
 "nbformat_minor": 2
}
